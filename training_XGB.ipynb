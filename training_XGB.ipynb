{
 "cells": [
  {
   "cell_type": "code",
   "id": "initial_id",
   "metadata": {
    "collapsed": true,
    "ExecuteTime": {
     "end_time": "2025-03-09T15:32:23.325604Z",
     "start_time": "2025-03-09T15:32:07.094457Z"
    }
   },
   "source": [
    "import pandas as pd\n",
    "import numpy as np\n",
    "from sklearn.model_selection import train_test_split, GridSearchCV\n",
    "from sklearn.preprocessing import LabelEncoder, StandardScaler\n",
    "from sklearn.metrics import r2_score, root_mean_squared_error\n",
    "from xgboost import XGBRegressor\n",
    "from sklearn.decomposition import PCA\n",
    "import matplotlib.pyplot as plt\n",
    "\n",
    "import os\n",
    "\n",
    "for dirname, _, filenames in os.walk('./modified_inputs/'):\n",
    "    for filename in filenames:\n",
    "        print(os.path.join(dirname, filename))"
   ],
   "outputs": [
    {
     "name": "stdout",
     "output_type": "stream",
     "text": [
      "./modified_inputs/no_missing_train.csv\n",
      "./modified_inputs/no_missing_training_extra.csv\n"
     ]
    }
   ],
   "execution_count": 1
  },
  {
   "metadata": {
    "ExecuteTime": {
     "end_time": "2025-03-09T15:32:27.686316Z",
     "start_time": "2025-03-09T15:32:25.979707Z"
    }
   },
   "cell_type": "code",
   "source": [
    "no_missing = pd.read_csv(\"./modified_inputs/no_missing_train.csv\")\n",
    "target = no_missing['Price']\n",
    "no_missing.drop(\"Price\", axis=1, inplace=True)\n",
    "no_missing"
   ],
   "id": "2cc2e62832baccf7",
   "outputs": [
    {
     "data": {
      "text/plain": [
       "            id         Brand Material    Size  Compartments  \\\n",
       "0            0      Jansport  Leather  Medium           7.0   \n",
       "1            1      Jansport   Canvas   Small          10.0   \n",
       "2            2  Under Armour  Leather   Small           2.0   \n",
       "3            3          Nike    Nylon   Small           8.0   \n",
       "4            4        Adidas   Canvas  Medium           1.0   \n",
       "...        ...           ...      ...     ...           ...   \n",
       "246681  299995        Adidas  Leather   Small           9.0   \n",
       "246682  299996      Jansport  Leather   Large           6.0   \n",
       "246683  299997          Puma   Canvas   Large           9.0   \n",
       "246684  299998        Adidas    Nylon   Small           1.0   \n",
       "246685  299999  Under Armour   Canvas   Small           2.0   \n",
       "\n",
       "       Laptop Compartment Waterproof      Style  Color  Weight Capacity (kg)  \n",
       "0                     Yes         No       Tote  Black             11.611723  \n",
       "1                     Yes        Yes  Messenger  Green             27.078537  \n",
       "2                     Yes         No  Messenger    Red             16.643760  \n",
       "3                     Yes         No  Messenger  Green             12.937220  \n",
       "4                     Yes        Yes  Messenger  Green             17.749338  \n",
       "...                   ...        ...        ...    ...                   ...  \n",
       "246681                 No         No       Tote   Blue             12.730812  \n",
       "246682                 No        Yes       Tote   Blue             26.633182  \n",
       "246683                Yes        Yes   Backpack   Pink             11.898250  \n",
       "246684                 No        Yes       Tote   Pink              6.175738  \n",
       "246685                 No        Yes   Backpack  Black             18.568865  \n",
       "\n",
       "[246686 rows x 10 columns]"
      ],
      "text/html": [
       "<div>\n",
       "<style scoped>\n",
       "    .dataframe tbody tr th:only-of-type {\n",
       "        vertical-align: middle;\n",
       "    }\n",
       "\n",
       "    .dataframe tbody tr th {\n",
       "        vertical-align: top;\n",
       "    }\n",
       "\n",
       "    .dataframe thead th {\n",
       "        text-align: right;\n",
       "    }\n",
       "</style>\n",
       "<table border=\"1\" class=\"dataframe\">\n",
       "  <thead>\n",
       "    <tr style=\"text-align: right;\">\n",
       "      <th></th>\n",
       "      <th>id</th>\n",
       "      <th>Brand</th>\n",
       "      <th>Material</th>\n",
       "      <th>Size</th>\n",
       "      <th>Compartments</th>\n",
       "      <th>Laptop Compartment</th>\n",
       "      <th>Waterproof</th>\n",
       "      <th>Style</th>\n",
       "      <th>Color</th>\n",
       "      <th>Weight Capacity (kg)</th>\n",
       "    </tr>\n",
       "  </thead>\n",
       "  <tbody>\n",
       "    <tr>\n",
       "      <th>0</th>\n",
       "      <td>0</td>\n",
       "      <td>Jansport</td>\n",
       "      <td>Leather</td>\n",
       "      <td>Medium</td>\n",
       "      <td>7.0</td>\n",
       "      <td>Yes</td>\n",
       "      <td>No</td>\n",
       "      <td>Tote</td>\n",
       "      <td>Black</td>\n",
       "      <td>11.611723</td>\n",
       "    </tr>\n",
       "    <tr>\n",
       "      <th>1</th>\n",
       "      <td>1</td>\n",
       "      <td>Jansport</td>\n",
       "      <td>Canvas</td>\n",
       "      <td>Small</td>\n",
       "      <td>10.0</td>\n",
       "      <td>Yes</td>\n",
       "      <td>Yes</td>\n",
       "      <td>Messenger</td>\n",
       "      <td>Green</td>\n",
       "      <td>27.078537</td>\n",
       "    </tr>\n",
       "    <tr>\n",
       "      <th>2</th>\n",
       "      <td>2</td>\n",
       "      <td>Under Armour</td>\n",
       "      <td>Leather</td>\n",
       "      <td>Small</td>\n",
       "      <td>2.0</td>\n",
       "      <td>Yes</td>\n",
       "      <td>No</td>\n",
       "      <td>Messenger</td>\n",
       "      <td>Red</td>\n",
       "      <td>16.643760</td>\n",
       "    </tr>\n",
       "    <tr>\n",
       "      <th>3</th>\n",
       "      <td>3</td>\n",
       "      <td>Nike</td>\n",
       "      <td>Nylon</td>\n",
       "      <td>Small</td>\n",
       "      <td>8.0</td>\n",
       "      <td>Yes</td>\n",
       "      <td>No</td>\n",
       "      <td>Messenger</td>\n",
       "      <td>Green</td>\n",
       "      <td>12.937220</td>\n",
       "    </tr>\n",
       "    <tr>\n",
       "      <th>4</th>\n",
       "      <td>4</td>\n",
       "      <td>Adidas</td>\n",
       "      <td>Canvas</td>\n",
       "      <td>Medium</td>\n",
       "      <td>1.0</td>\n",
       "      <td>Yes</td>\n",
       "      <td>Yes</td>\n",
       "      <td>Messenger</td>\n",
       "      <td>Green</td>\n",
       "      <td>17.749338</td>\n",
       "    </tr>\n",
       "    <tr>\n",
       "      <th>...</th>\n",
       "      <td>...</td>\n",
       "      <td>...</td>\n",
       "      <td>...</td>\n",
       "      <td>...</td>\n",
       "      <td>...</td>\n",
       "      <td>...</td>\n",
       "      <td>...</td>\n",
       "      <td>...</td>\n",
       "      <td>...</td>\n",
       "      <td>...</td>\n",
       "    </tr>\n",
       "    <tr>\n",
       "      <th>246681</th>\n",
       "      <td>299995</td>\n",
       "      <td>Adidas</td>\n",
       "      <td>Leather</td>\n",
       "      <td>Small</td>\n",
       "      <td>9.0</td>\n",
       "      <td>No</td>\n",
       "      <td>No</td>\n",
       "      <td>Tote</td>\n",
       "      <td>Blue</td>\n",
       "      <td>12.730812</td>\n",
       "    </tr>\n",
       "    <tr>\n",
       "      <th>246682</th>\n",
       "      <td>299996</td>\n",
       "      <td>Jansport</td>\n",
       "      <td>Leather</td>\n",
       "      <td>Large</td>\n",
       "      <td>6.0</td>\n",
       "      <td>No</td>\n",
       "      <td>Yes</td>\n",
       "      <td>Tote</td>\n",
       "      <td>Blue</td>\n",
       "      <td>26.633182</td>\n",
       "    </tr>\n",
       "    <tr>\n",
       "      <th>246683</th>\n",
       "      <td>299997</td>\n",
       "      <td>Puma</td>\n",
       "      <td>Canvas</td>\n",
       "      <td>Large</td>\n",
       "      <td>9.0</td>\n",
       "      <td>Yes</td>\n",
       "      <td>Yes</td>\n",
       "      <td>Backpack</td>\n",
       "      <td>Pink</td>\n",
       "      <td>11.898250</td>\n",
       "    </tr>\n",
       "    <tr>\n",
       "      <th>246684</th>\n",
       "      <td>299998</td>\n",
       "      <td>Adidas</td>\n",
       "      <td>Nylon</td>\n",
       "      <td>Small</td>\n",
       "      <td>1.0</td>\n",
       "      <td>No</td>\n",
       "      <td>Yes</td>\n",
       "      <td>Tote</td>\n",
       "      <td>Pink</td>\n",
       "      <td>6.175738</td>\n",
       "    </tr>\n",
       "    <tr>\n",
       "      <th>246685</th>\n",
       "      <td>299999</td>\n",
       "      <td>Under Armour</td>\n",
       "      <td>Canvas</td>\n",
       "      <td>Small</td>\n",
       "      <td>2.0</td>\n",
       "      <td>No</td>\n",
       "      <td>Yes</td>\n",
       "      <td>Backpack</td>\n",
       "      <td>Black</td>\n",
       "      <td>18.568865</td>\n",
       "    </tr>\n",
       "  </tbody>\n",
       "</table>\n",
       "<p>246686 rows × 10 columns</p>\n",
       "</div>"
      ]
     },
     "execution_count": 2,
     "metadata": {},
     "output_type": "execute_result"
    }
   ],
   "execution_count": 2
  },
  {
   "metadata": {
    "ExecuteTime": {
     "end_time": "2025-03-09T15:32:30.134221Z",
     "start_time": "2025-03-09T15:32:27.941274Z"
    }
   },
   "cell_type": "code",
   "source": [
    "# Encoding the data\n",
    "for i in no_missing:\n",
    "    if i != \"Compartments\" and i != \"Weight Capacity (kg)\":\n",
    "        no_missing[i] = LabelEncoder().fit_transform(no_missing[i])\n",
    "\n",
    "no_missing"
   ],
   "id": "2e48d62efbc24613",
   "outputs": [
    {
     "data": {
      "text/plain": [
       "            id  Brand  Material  Size  Compartments  Laptop Compartment  \\\n",
       "0            0      1         1     1           7.0                   1   \n",
       "1            1      1         0     2          10.0                   1   \n",
       "2            2      4         1     2           2.0                   1   \n",
       "3            3      2         2     2           8.0                   1   \n",
       "4            4      0         0     1           1.0                   1   \n",
       "...        ...    ...       ...   ...           ...                 ...   \n",
       "246681  246681      0         1     2           9.0                   0   \n",
       "246682  246682      1         1     0           6.0                   0   \n",
       "246683  246683      3         0     0           9.0                   1   \n",
       "246684  246684      0         2     2           1.0                   0   \n",
       "246685  246685      4         0     2           2.0                   0   \n",
       "\n",
       "        Waterproof  Style  Color  Weight Capacity (kg)  \n",
       "0                0      2      0             11.611723  \n",
       "1                1      1      3             27.078537  \n",
       "2                0      1      5             16.643760  \n",
       "3                0      1      3             12.937220  \n",
       "4                1      1      3             17.749338  \n",
       "...            ...    ...    ...                   ...  \n",
       "246681           0      2      1             12.730812  \n",
       "246682           1      2      1             26.633182  \n",
       "246683           1      0      4             11.898250  \n",
       "246684           1      2      4              6.175738  \n",
       "246685           1      0      0             18.568865  \n",
       "\n",
       "[246686 rows x 10 columns]"
      ],
      "text/html": [
       "<div>\n",
       "<style scoped>\n",
       "    .dataframe tbody tr th:only-of-type {\n",
       "        vertical-align: middle;\n",
       "    }\n",
       "\n",
       "    .dataframe tbody tr th {\n",
       "        vertical-align: top;\n",
       "    }\n",
       "\n",
       "    .dataframe thead th {\n",
       "        text-align: right;\n",
       "    }\n",
       "</style>\n",
       "<table border=\"1\" class=\"dataframe\">\n",
       "  <thead>\n",
       "    <tr style=\"text-align: right;\">\n",
       "      <th></th>\n",
       "      <th>id</th>\n",
       "      <th>Brand</th>\n",
       "      <th>Material</th>\n",
       "      <th>Size</th>\n",
       "      <th>Compartments</th>\n",
       "      <th>Laptop Compartment</th>\n",
       "      <th>Waterproof</th>\n",
       "      <th>Style</th>\n",
       "      <th>Color</th>\n",
       "      <th>Weight Capacity (kg)</th>\n",
       "    </tr>\n",
       "  </thead>\n",
       "  <tbody>\n",
       "    <tr>\n",
       "      <th>0</th>\n",
       "      <td>0</td>\n",
       "      <td>1</td>\n",
       "      <td>1</td>\n",
       "      <td>1</td>\n",
       "      <td>7.0</td>\n",
       "      <td>1</td>\n",
       "      <td>0</td>\n",
       "      <td>2</td>\n",
       "      <td>0</td>\n",
       "      <td>11.611723</td>\n",
       "    </tr>\n",
       "    <tr>\n",
       "      <th>1</th>\n",
       "      <td>1</td>\n",
       "      <td>1</td>\n",
       "      <td>0</td>\n",
       "      <td>2</td>\n",
       "      <td>10.0</td>\n",
       "      <td>1</td>\n",
       "      <td>1</td>\n",
       "      <td>1</td>\n",
       "      <td>3</td>\n",
       "      <td>27.078537</td>\n",
       "    </tr>\n",
       "    <tr>\n",
       "      <th>2</th>\n",
       "      <td>2</td>\n",
       "      <td>4</td>\n",
       "      <td>1</td>\n",
       "      <td>2</td>\n",
       "      <td>2.0</td>\n",
       "      <td>1</td>\n",
       "      <td>0</td>\n",
       "      <td>1</td>\n",
       "      <td>5</td>\n",
       "      <td>16.643760</td>\n",
       "    </tr>\n",
       "    <tr>\n",
       "      <th>3</th>\n",
       "      <td>3</td>\n",
       "      <td>2</td>\n",
       "      <td>2</td>\n",
       "      <td>2</td>\n",
       "      <td>8.0</td>\n",
       "      <td>1</td>\n",
       "      <td>0</td>\n",
       "      <td>1</td>\n",
       "      <td>3</td>\n",
       "      <td>12.937220</td>\n",
       "    </tr>\n",
       "    <tr>\n",
       "      <th>4</th>\n",
       "      <td>4</td>\n",
       "      <td>0</td>\n",
       "      <td>0</td>\n",
       "      <td>1</td>\n",
       "      <td>1.0</td>\n",
       "      <td>1</td>\n",
       "      <td>1</td>\n",
       "      <td>1</td>\n",
       "      <td>3</td>\n",
       "      <td>17.749338</td>\n",
       "    </tr>\n",
       "    <tr>\n",
       "      <th>...</th>\n",
       "      <td>...</td>\n",
       "      <td>...</td>\n",
       "      <td>...</td>\n",
       "      <td>...</td>\n",
       "      <td>...</td>\n",
       "      <td>...</td>\n",
       "      <td>...</td>\n",
       "      <td>...</td>\n",
       "      <td>...</td>\n",
       "      <td>...</td>\n",
       "    </tr>\n",
       "    <tr>\n",
       "      <th>246681</th>\n",
       "      <td>246681</td>\n",
       "      <td>0</td>\n",
       "      <td>1</td>\n",
       "      <td>2</td>\n",
       "      <td>9.0</td>\n",
       "      <td>0</td>\n",
       "      <td>0</td>\n",
       "      <td>2</td>\n",
       "      <td>1</td>\n",
       "      <td>12.730812</td>\n",
       "    </tr>\n",
       "    <tr>\n",
       "      <th>246682</th>\n",
       "      <td>246682</td>\n",
       "      <td>1</td>\n",
       "      <td>1</td>\n",
       "      <td>0</td>\n",
       "      <td>6.0</td>\n",
       "      <td>0</td>\n",
       "      <td>1</td>\n",
       "      <td>2</td>\n",
       "      <td>1</td>\n",
       "      <td>26.633182</td>\n",
       "    </tr>\n",
       "    <tr>\n",
       "      <th>246683</th>\n",
       "      <td>246683</td>\n",
       "      <td>3</td>\n",
       "      <td>0</td>\n",
       "      <td>0</td>\n",
       "      <td>9.0</td>\n",
       "      <td>1</td>\n",
       "      <td>1</td>\n",
       "      <td>0</td>\n",
       "      <td>4</td>\n",
       "      <td>11.898250</td>\n",
       "    </tr>\n",
       "    <tr>\n",
       "      <th>246684</th>\n",
       "      <td>246684</td>\n",
       "      <td>0</td>\n",
       "      <td>2</td>\n",
       "      <td>2</td>\n",
       "      <td>1.0</td>\n",
       "      <td>0</td>\n",
       "      <td>1</td>\n",
       "      <td>2</td>\n",
       "      <td>4</td>\n",
       "      <td>6.175738</td>\n",
       "    </tr>\n",
       "    <tr>\n",
       "      <th>246685</th>\n",
       "      <td>246685</td>\n",
       "      <td>4</td>\n",
       "      <td>0</td>\n",
       "      <td>2</td>\n",
       "      <td>2.0</td>\n",
       "      <td>0</td>\n",
       "      <td>1</td>\n",
       "      <td>0</td>\n",
       "      <td>0</td>\n",
       "      <td>18.568865</td>\n",
       "    </tr>\n",
       "  </tbody>\n",
       "</table>\n",
       "<p>246686 rows × 10 columns</p>\n",
       "</div>"
      ]
     },
     "execution_count": 3,
     "metadata": {},
     "output_type": "execute_result"
    }
   ],
   "execution_count": 3
  },
  {
   "metadata": {
    "ExecuteTime": {
     "end_time": "2025-03-09T15:32:30.662349Z",
     "start_time": "2025-03-09T15:32:30.332360Z"
    }
   },
   "cell_type": "code",
   "source": [
    "no_missing.drop(\"id\", axis=1, inplace=True)\n",
    "\n",
    "# Scale the data\n",
    "scaler = StandardScaler()\n",
    "scaler.fit(no_missing)\n",
    "scaled_data = scaler.transform(no_missing)\n",
    "scaled_data"
   ],
   "id": "3024f33e558d5442",
   "outputs": [
    {
     "data": {
      "text/plain": [
       "array([[-0.69931374, -0.4928208 ,  0.02206268, ...,  1.22338265,\n",
       "        -1.4867244 , -0.91959901],\n",
       "       [-0.69931374, -1.38398693,  1.26097809, ..., -0.01088741,\n",
       "         0.28357779,  1.30109828],\n",
       "       [ 1.39982729, -0.4928208 ,  1.26097809, ..., -0.01088741,\n",
       "         1.46377925, -0.19710817],\n",
       "       ...,\n",
       "       [ 0.70011362, -1.38398693, -1.21685273, ..., -1.24515747,\n",
       "         0.87367852, -0.87845999],\n",
       "       [-1.39902741,  0.39834533,  1.26097809, ...,  1.22338265,\n",
       "         0.87367852, -1.70008793],\n",
       "       [ 1.39982729, -1.38398693,  1.26097809, ..., -1.24515747,\n",
       "        -1.4867244 ,  0.07929494]])"
      ]
     },
     "execution_count": 4,
     "metadata": {},
     "output_type": "execute_result"
    }
   ],
   "execution_count": 4
  },
  {
   "metadata": {
    "ExecuteTime": {
     "end_time": "2025-03-09T15:32:32.897349Z",
     "start_time": "2025-03-09T15:32:32.599393Z"
    }
   },
   "cell_type": "code",
   "source": [
    "# Split the data\n",
    "X_train, X_test, y_train, y_test = train_test_split(scaled_data, target, test_size=0.2, random_state=42)"
   ],
   "id": "24326101bed8b12f",
   "outputs": [],
   "execution_count": 5
  },
  {
   "metadata": {
    "ExecuteTime": {
     "end_time": "2025-03-09T15:41:03.252497Z",
     "start_time": "2025-03-09T15:32:33.489066Z"
    }
   },
   "cell_type": "code",
   "source": [
    "# Create a XGBoost Classifier\n",
    "clf = XGBRegressor(n_estimators=10000, learning_rate=0.001, max_depth=5, random_state=42)\n",
    "clf.fit(X_train, y_train)\n",
    "predictions = clf.predict(X_test)\n",
    "r2 = r2_score(y_test, predictions)\n",
    "squared_error = root_mean_squared_error(y_test, predictions)\n",
    "print(squared_error)\n",
    "predictions"
   ],
   "id": "e9e7fe529100c518",
   "outputs": [
    {
     "name": "stdout",
     "output_type": "stream",
     "text": [
      "38.8634753336258\n"
     ]
    },
    {
     "data": {
      "text/plain": [
       "array([82.834816, 80.085464, 83.48344 , ..., 82.82065 , 81.15301 ,\n",
       "       81.967445], dtype=float32)"
      ]
     },
     "execution_count": 6,
     "metadata": {},
     "output_type": "execute_result"
    }
   ],
   "execution_count": 6
  },
  {
   "metadata": {
    "ExecuteTime": {
     "end_time": "2025-03-09T15:41:04.298427Z",
     "start_time": "2025-03-09T15:41:03.870373Z"
    }
   },
   "cell_type": "code",
   "source": [
    "# Introducing PCA\n",
    "pca = PCA()\n",
    "pca.fit(scaled_data)\n",
    "\n",
    "# Explained variance\n",
    "explained_variance = pca.explained_variance_ratio_\n",
    "cumulative_variance = np.cumsum(explained_variance)\n",
    "\n",
    "# Plot explained variance\n",
    "plt.figure(figsize=(8, 5))\n",
    "plt.plot(range(1, len(explained_variance) + 1), cumulative_variance, marker='o', linestyle='--')\n",
    "plt.xlabel(\"Number of Principal Components\")\n",
    "plt.ylabel(\"Cumulative Explained Variance\")\n",
    "plt.title(\"Explained Variance vs. Number of Principal Components\")\n",
    "plt.grid()\n",
    "plt.show()\n",
    "\n",
    "# Print explained variance ratios\n",
    "print(\"Explained Variance Ratios:\", explained_variance)\n",
    "print(\"Cumulative Variance:\", cumulative_variance)"
   ],
   "id": "c75a6c823174a09b",
   "outputs": [
    {
     "data": {
      "text/plain": [
       "<Figure size 800x500 with 1 Axes>"
      ],
      "image/png": "[encoded data removed]"
     },
     "metadata": {},
     "output_type": "display_data"
    },
    {
     "name": "stdout",
     "output_type": "stream",
     "text": [
      "Explained Variance Ratios: [0.11435118 0.11277656 0.11238461 0.11149622 0.11089533 0.11043414\n",
      " 0.11017635 0.10971668 0.10776894]\n",
      "Cumulative Variance: [0.11435118 0.22712774 0.33951235 0.45100857 0.5619039  0.67233803\n",
      " 0.78251438 0.89223106 1.        ]\n"
     ]
    }
   ],
   "execution_count": 7
  },
  {
   "metadata": {
    "ExecuteTime": {
     "end_time": "2025-03-09T15:41:04.369453Z",
     "start_time": "2025-03-09T15:41:04.331363Z"
    }
   },
   "cell_type": "code",
   "source": "pca.transform(scaled_data)",
   "id": "b1aaeba80998a8c4",
   "outputs": [
    {
     "data": {
      "text/plain": [
       "array([[ 1.28691742,  0.53866849, -1.67811923, ..., -0.75292347,\n",
       "         1.02299224,  0.18299775],\n",
       "       [ 0.00791969,  0.24153261, -0.48315153, ..., -0.19912369,\n",
       "        -1.84691893,  1.56400255],\n",
       "       [ 1.35527315, -1.53062991,  1.06010516, ..., -0.50590702,\n",
       "        -1.16443558, -0.18215877],\n",
       "       ...,\n",
       "       [ 0.00721947, -0.23094757, -1.31043711, ...,  1.53666717,\n",
       "        -1.31565367,  1.66719289],\n",
       "       [-1.46064919, -1.62621722,  0.18538008, ..., -1.24716283,\n",
       "         1.78386643,  0.09043892],\n",
       "       [-1.69689424, -1.48302309,  0.03299567, ..., -0.41222717,\n",
       "        -1.10958036, -0.24220949]])"
      ]
     },
     "execution_count": 8,
     "metadata": {},
     "output_type": "execute_result"
    }
   ],
   "execution_count": 8
  },
  {
   "metadata": {
    "ExecuteTime": {
     "end_time": "2025-03-09T15:41:04.642384Z",
     "start_time": "2025-03-09T15:41:04.492593Z"
    }
   },
   "cell_type": "code",
   "source": [
    "X_pca = pca.transform(scaled_data)\n",
    "X_train, X_test, y_train, y_test = train_test_split(X_pca, target, test_size=0.2, random_state=42)"
   ],
   "id": "270e9fcaa5e2f654",
   "outputs": [],
   "execution_count": 9
  },
  {
   "metadata": {
    "ExecuteTime": {
     "end_time": "2025-03-09T15:45:59.228971Z",
     "start_time": "2025-03-09T15:41:04.727298Z"
    }
   },
   "cell_type": "code",
   "source": [
    "# Create a XGBoost Classifier\n",
    "clf = XGBRegressor(n_estimators=10000, learning_rate=0.001, max_depth=5, random_state=42)\n",
    "clf.fit(X_train, y_train)\n",
    "predictions = clf.predict(X_test)\n",
    "squared_error = root_mean_squared_error(y_test, predictions)\n",
    "print(squared_error)\n",
    "predictions"
   ],
   "id": "2b23dc4e50c711d4",
   "outputs": [
    {
     "name": "stdout",
     "output_type": "stream",
     "text": [
      "38.89524275087636\n"
     ]
    },
    {
     "data": {
      "text/plain": [
       "array([82.730194, 80.30338 , 81.77886 , ..., 82.02585 , 81.72177 ,\n",
       "       82.70141 ], dtype=float32)"
      ]
     },
     "execution_count": 10,
     "metadata": {},
     "output_type": "execute_result"
    }
   ],
   "execution_count": 10
  },
  {
   "metadata": {
    "ExecuteTime": {
     "end_time": "2025-03-09T15:45:59.367667Z",
     "start_time": "2025-03-09T15:45:59.259944Z"
    }
   },
   "cell_type": "code",
   "source": [
    "%store -r data\n",
    "data"
   ],
   "id": "4afed0d19393d5b5",
   "outputs": [
    {
     "data": {
      "text/plain": [
       "        Brand  Material  Size  Compartments  Laptop Compartment  Waterproof  \\\n",
       "0         1.0       1.0   1.0           7.0                 1.0         0.0   \n",
       "1         1.0       0.0   2.0          10.0                 1.0         1.0   \n",
       "2         4.0       1.0   2.0           2.0                 1.0         0.0   \n",
       "3         2.0       2.0   2.0           8.0                 1.0         0.0   \n",
       "4         0.0       0.0   1.0           1.0                 1.0         1.0   \n",
       "...       ...       ...   ...           ...                 ...         ...   \n",
       "299995    0.0       1.0   2.0           9.0                 0.0         0.0   \n",
       "299996    1.0       1.0   0.0           6.0                 0.0         1.0   \n",
       "299997    3.0       0.0   0.0           9.0                 1.0         1.0   \n",
       "299998    0.0       2.0   2.0           1.0                 0.0         1.0   \n",
       "299999    4.0       0.0   2.0           2.0                 0.0         1.0   \n",
       "\n",
       "        Style  Color  Weight Capacity (kg)  \n",
       "0         2.0    0.0             11.611723  \n",
       "1         1.0    3.0             27.078537  \n",
       "2         1.0    5.0             16.643760  \n",
       "3         1.0    3.0             12.937220  \n",
       "4         1.0    3.0             17.749338  \n",
       "...       ...    ...                   ...  \n",
       "299995    2.0    1.0             12.730812  \n",
       "299996    2.0    1.0             26.633182  \n",
       "299997    0.0    4.0             11.898250  \n",
       "299998    2.0    4.0              6.175738  \n",
       "299999    0.0    0.0             18.568865  \n",
       "\n",
       "[300000 rows x 9 columns]"
      ],
      "text/html": [
       "<div>\n",
       "<style scoped>\n",
       "    .dataframe tbody tr th:only-of-type {\n",
       "        vertical-align: middle;\n",
       "    }\n",
       "\n",
       "    .dataframe tbody tr th {\n",
       "        vertical-align: top;\n",
       "    }\n",
       "\n",
       "    .dataframe thead th {\n",
       "        text-align: right;\n",
       "    }\n",
       "</style>\n",
       "<table border=\"1\" class=\"dataframe\">\n",
       "  <thead>\n",
       "    <tr style=\"text-align: right;\">\n",
       "      <th></th>\n",
       "      <th>Brand</th>\n",
       "      <th>Material</th>\n",
       "      <th>Size</th>\n",
       "      <th>Compartments</th>\n",
       "      <th>Laptop Compartment</th>\n",
       "      <th>Waterproof</th>\n",
       "      <th>Style</th>\n",
       "      <th>Color</th>\n",
       "      <th>Weight Capacity (kg)</th>\n",
       "    </tr>\n",
       "  </thead>\n",
       "  <tbody>\n",
       "    <tr>\n",
       "      <th>0</th>\n",
       "      <td>1.0</td>\n",
       "      <td>1.0</td>\n",
       "      <td>1.0</td>\n",
       "      <td>7.0</td>\n",
       "      <td>1.0</td>\n",
       "      <td>0.0</td>\n",
       "      <td>2.0</td>\n",
       "      <td>0.0</td>\n",
       "      <td>11.611723</td>\n",
       "    </tr>\n",
       "    <tr>\n",
       "      <th>1</th>\n",
       "      <td>1.0</td>\n",
       "      <td>0.0</td>\n",
       "      <td>2.0</td>\n",
       "      <td>10.0</td>\n",
       "      <td>1.0</td>\n",
       "      <td>1.0</td>\n",
       "      <td>1.0</td>\n",
       "      <td>3.0</td>\n",
       "      <td>27.078537</td>\n",
       "    </tr>\n",
       "    <tr>\n",
       "      <th>2</th>\n",
       "      <td>4.0</td>\n",
       "      <td>1.0</td>\n",
       "      <td>2.0</td>\n",
       "      <td>2.0</td>\n",
       "      <td>1.0</td>\n",
       "      <td>0.0</td>\n",
       "      <td>1.0</td>\n",
       "      <td>5.0</td>\n",
       "      <td>16.643760</td>\n",
       "    </tr>\n",
       "    <tr>\n",
       "      <th>3</th>\n",
       "      <td>2.0</td>\n",
       "      <td>2.0</td>\n",
       "      <td>2.0</td>\n",
       "      <td>8.0</td>\n",
       "      <td>1.0</td>\n",
       "      <td>0.0</td>\n",
       "      <td>1.0</td>\n",
       "      <td>3.0</td>\n",
       "      <td>12.937220</td>\n",
       "    </tr>\n",
       "    <tr>\n",
       "      <th>4</th>\n",
       "      <td>0.0</td>\n",
       "      <td>0.0</td>\n",
       "      <td>1.0</td>\n",
       "      <td>1.0</td>\n",
       "      <td>1.0</td>\n",
       "      <td>1.0</td>\n",
       "      <td>1.0</td>\n",
       "      <td>3.0</td>\n",
       "      <td>17.749338</td>\n",
       "    </tr>\n",
       "    <tr>\n",
       "      <th>...</th>\n",
       "      <td>...</td>\n",
       "      <td>...</td>\n",
       "      <td>...</td>\n",
       "      <td>...</td>\n",
       "      <td>...</td>\n",
       "      <td>...</td>\n",
       "      <td>...</td>\n",
       "      <td>...</td>\n",
       "      <td>...</td>\n",
       "    </tr>\n",
       "    <tr>\n",
       "      <th>299995</th>\n",
       "      <td>0.0</td>\n",
       "      <td>1.0</td>\n",
       "      <td>2.0</td>\n",
       "      <td>9.0</td>\n",
       "      <td>0.0</td>\n",
       "      <td>0.0</td>\n",
       "      <td>2.0</td>\n",
       "      <td>1.0</td>\n",
       "      <td>12.730812</td>\n",
       "    </tr>\n",
       "    <tr>\n",
       "      <th>299996</th>\n",
       "      <td>1.0</td>\n",
       "      <td>1.0</td>\n",
       "      <td>0.0</td>\n",
       "      <td>6.0</td>\n",
       "      <td>0.0</td>\n",
       "      <td>1.0</td>\n",
       "      <td>2.0</td>\n",
       "      <td>1.0</td>\n",
       "      <td>26.633182</td>\n",
       "    </tr>\n",
       "    <tr>\n",
       "      <th>299997</th>\n",
       "      <td>3.0</td>\n",
       "      <td>0.0</td>\n",
       "      <td>0.0</td>\n",
       "      <td>9.0</td>\n",
       "      <td>1.0</td>\n",
       "      <td>1.0</td>\n",
       "      <td>0.0</td>\n",
       "      <td>4.0</td>\n",
       "      <td>11.898250</td>\n",
       "    </tr>\n",
       "    <tr>\n",
       "      <th>299998</th>\n",
       "      <td>0.0</td>\n",
       "      <td>2.0</td>\n",
       "      <td>2.0</td>\n",
       "      <td>1.0</td>\n",
       "      <td>0.0</td>\n",
       "      <td>1.0</td>\n",
       "      <td>2.0</td>\n",
       "      <td>4.0</td>\n",
       "      <td>6.175738</td>\n",
       "    </tr>\n",
       "    <tr>\n",
       "      <th>299999</th>\n",
       "      <td>4.0</td>\n",
       "      <td>0.0</td>\n",
       "      <td>2.0</td>\n",
       "      <td>2.0</td>\n",
       "      <td>0.0</td>\n",
       "      <td>1.0</td>\n",
       "      <td>0.0</td>\n",
       "      <td>0.0</td>\n",
       "      <td>18.568865</td>\n",
       "    </tr>\n",
       "  </tbody>\n",
       "</table>\n",
       "<p>300000 rows × 9 columns</p>\n",
       "</div>"
      ]
     },
     "execution_count": 11,
     "metadata": {},
     "output_type": "execute_result"
    }
   ],
   "execution_count": 11
  },
  {
   "metadata": {
    "ExecuteTime": {
     "end_time": "2025-03-09T15:45:59.763882Z",
     "start_time": "2025-03-09T15:45:59.406043Z"
    }
   },
   "cell_type": "code",
   "source": [
    "target = pd.read_csv(\"./inputs/train.csv\")[\"Price\"]\n",
    "X_train, X_test, y_train, y_test = train_test_split(data, target, test_size=0.2, random_state=42)"
   ],
   "id": "6144264560584a72",
   "outputs": [],
   "execution_count": 12
  },
  {
   "metadata": {
    "ExecuteTime": {
     "end_time": "2025-03-09T15:47:28.158278Z",
     "start_time": "2025-03-09T15:45:59.790264Z"
    }
   },
   "cell_type": "code",
   "source": [
    "# Create a XGBoost Classifier\n",
    "clf = XGBRegressor(n_estimators=10000, learning_rate=0.001, max_depth=5, random_state=42)\n",
    "clf.fit(X_train, y_train)\n",
    "predictions = clf.predict(X_test)\n",
    "squared_error = root_mean_squared_error(y_test, predictions)\n",
    "print(squared_error)\n",
    "predictions"
   ],
   "id": "d64ce668f9245b67",
   "outputs": [
    {
     "name": "stdout",
     "output_type": "stream",
     "text": [
      "38.90907064043951\n"
     ]
    },
    {
     "data": {
      "text/plain": [
       "array([81.59764 , 83.060326, 81.938286, ..., 81.66943 , 83.16279 ,\n",
       "       83.10864 ], dtype=float32)"
      ]
     },
     "execution_count": 13,
     "metadata": {},
     "output_type": "execute_result"
    }
   ],
   "execution_count": 13
  },
  {
   "metadata": {
    "ExecuteTime": {
     "end_time": "2025-03-09T16:16:39.360122300Z",
     "start_time": "2025-03-09T15:47:28.504629Z"
    }
   },
   "cell_type": "code",
   "source": [
    "parameters = {\n",
    "    \"n_estimators\": [100, 1000, 10000],\n",
    "    \"learning_rate\": [0.001, 0.01, 0.1, 1.0],\n",
    "    \"max_depth\": [1, 2, 3, 4, 5, 6, 7, 8, 9, 10],\n",
    "    \"random_state\": [21, 42, 34, 50]\n",
    "}\n",
    "model = XGBRegressor()\n",
    "grid = GridSearchCV(model, parameters, scoring=\"neg_root_mean_squared_error\", n_jobs=-1, verbose=3)\n",
    "grid.fit(X_train, y_train)\n",
    "print(grid.best_params_)\n",
    "print(grid.best_score_)"
   ],
   "id": "fcf6b214c6b37330",
   "outputs": [
    {
     "name": "stdout",
     "output_type": "stream",
     "text": [
      "Fitting 5 folds for each of 480 candidates, totalling 2400 fits\n"
     ]
    }
   ],
   "execution_count": null
  }
 ],
 "metadata": {
  "kernelspec": {
   "display_name": "Python 3",
   "language": "python",
   "name": "python3"
  },
  "language_info": {
   "codemirror_mode": {
    "name": "ipython",
    "version": 2
   },
   "file_extension": ".py",
   "mimetype": "text/x-python",
   "name": "python",
   "nbconvert_exporter": "python",
   "pygments_lexer": "ipython2",
   "version": "2.7.6"
  }
 },
 "nbformat": 4,
 "nbformat_minor": 5
}
