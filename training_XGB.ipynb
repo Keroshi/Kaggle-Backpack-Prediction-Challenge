{
 "cells": [
  {
   "cell_type": "code",
   "id": "initial_id",
   "metadata": {
    "collapsed": true,
    "ExecuteTime": {
     "end_time": "2025-02-25T15:37:41.292776Z",
     "start_time": "2025-02-25T15:37:41.287840Z"
    }
   },
   "source": [
    "import pandas as pd\n",
    "import numpy as np\n",
    "from sklearn.model_selection import train_test_split\n",
    "from sklearn.preprocessing import LabelEncoder, StandardScaler\n",
    "from sklearn.ensemble import RandomForestRegressor\n",
    "from sklearn.metrics import r2_score, root_mean_squared_error\n",
    "from xgboost import XGBRegressor\n",
    "from sklearn.decomposition import PCA\n",
    "import matplotlib.pyplot as plt\n",
    "\n",
    "import os\n",
    "\n",
    "for dirname, _, filenames in os.walk('./modified_inputs/'):\n",
    "    for filename in filenames:\n",
    "        print(os.path.join(dirname, filename))"
   ],
   "outputs": [
    {
     "name": "stdout",
     "output_type": "stream",
     "text": [
      "./modified_inputs/no_missing_train.csv\n"
     ]
    }
   ],
   "execution_count": 19
  },
  {
   "metadata": {
    "ExecuteTime": {
     "end_time": "2025-02-25T15:17:01.635635Z",
     "start_time": "2025-02-25T15:16:59.489198Z"
    }
   },
   "cell_type": "code",
   "source": [
    "no_missing = pd.read_csv(\"./modified_inputs/no_missing_train.csv\")\n",
    "no_missing"
   ],
   "id": "2cc2e62832baccf7",
   "outputs": [
    {
     "data": {
      "text/plain": [
       "            id  Brand  Material  Size  Compartments  Laptop Compartment  \\\n",
       "0            0      1         1     1           7.0                   1   \n",
       "1            1      1         0     2          10.0                   1   \n",
       "2            2      4         1     2           2.0                   1   \n",
       "3            3      2         2     2           8.0                   1   \n",
       "4            4      0         0     1           1.0                   1   \n",
       "...        ...    ...       ...   ...           ...                 ...   \n",
       "299857  299995      0         1     2           9.0                   0   \n",
       "299858  299996      1         1     0           6.0                   0   \n",
       "299859  299997      3         0     0           9.0                   1   \n",
       "299860  299998      0         2     2           1.0                   0   \n",
       "299861  299999      4         0     2           2.0                   0   \n",
       "\n",
       "        Waterproof  Style  Color  Weight Capacity (kg)      Price  \n",
       "0                0      2      0             11.611723  112.15875  \n",
       "1                1      1      3             27.078537   68.88056  \n",
       "2                0      1      5             16.643760   39.17320  \n",
       "3                0      1      3             12.937220   80.60793  \n",
       "4                1      1      3             17.749338   86.02312  \n",
       "...            ...    ...    ...                   ...        ...  \n",
       "299857           0      2      1             12.730812  129.99749  \n",
       "299858           1      2      1             26.633182   19.85819  \n",
       "299859           1      0      4             11.898250  111.41364  \n",
       "299860           1      2      4              6.175738  115.89080  \n",
       "299861           1      0      0             18.568865   26.72762  \n",
       "\n",
       "[299862 rows x 11 columns]"
      ],
      "text/html": [
       "<div>\n",
       "<style scoped>\n",
       "    .dataframe tbody tr th:only-of-type {\n",
       "        vertical-align: middle;\n",
       "    }\n",
       "\n",
       "    .dataframe tbody tr th {\n",
       "        vertical-align: top;\n",
       "    }\n",
       "\n",
       "    .dataframe thead th {\n",
       "        text-align: right;\n",
       "    }\n",
       "</style>\n",
       "<table border=\"1\" class=\"dataframe\">\n",
       "  <thead>\n",
       "    <tr style=\"text-align: right;\">\n",
       "      <th></th>\n",
       "      <th>id</th>\n",
       "      <th>Brand</th>\n",
       "      <th>Material</th>\n",
       "      <th>Size</th>\n",
       "      <th>Compartments</th>\n",
       "      <th>Laptop Compartment</th>\n",
       "      <th>Waterproof</th>\n",
       "      <th>Style</th>\n",
       "      <th>Color</th>\n",
       "      <th>Weight Capacity (kg)</th>\n",
       "      <th>Price</th>\n",
       "    </tr>\n",
       "  </thead>\n",
       "  <tbody>\n",
       "    <tr>\n",
       "      <th>0</th>\n",
       "      <td>0</td>\n",
       "      <td>1</td>\n",
       "      <td>1</td>\n",
       "      <td>1</td>\n",
       "      <td>7.0</td>\n",
       "      <td>1</td>\n",
       "      <td>0</td>\n",
       "      <td>2</td>\n",
       "      <td>0</td>\n",
       "      <td>11.611723</td>\n",
       "      <td>112.15875</td>\n",
       "    </tr>\n",
       "    <tr>\n",
       "      <th>1</th>\n",
       "      <td>1</td>\n",
       "      <td>1</td>\n",
       "      <td>0</td>\n",
       "      <td>2</td>\n",
       "      <td>10.0</td>\n",
       "      <td>1</td>\n",
       "      <td>1</td>\n",
       "      <td>1</td>\n",
       "      <td>3</td>\n",
       "      <td>27.078537</td>\n",
       "      <td>68.88056</td>\n",
       "    </tr>\n",
       "    <tr>\n",
       "      <th>2</th>\n",
       "      <td>2</td>\n",
       "      <td>4</td>\n",
       "      <td>1</td>\n",
       "      <td>2</td>\n",
       "      <td>2.0</td>\n",
       "      <td>1</td>\n",
       "      <td>0</td>\n",
       "      <td>1</td>\n",
       "      <td>5</td>\n",
       "      <td>16.643760</td>\n",
       "      <td>39.17320</td>\n",
       "    </tr>\n",
       "    <tr>\n",
       "      <th>3</th>\n",
       "      <td>3</td>\n",
       "      <td>2</td>\n",
       "      <td>2</td>\n",
       "      <td>2</td>\n",
       "      <td>8.0</td>\n",
       "      <td>1</td>\n",
       "      <td>0</td>\n",
       "      <td>1</td>\n",
       "      <td>3</td>\n",
       "      <td>12.937220</td>\n",
       "      <td>80.60793</td>\n",
       "    </tr>\n",
       "    <tr>\n",
       "      <th>4</th>\n",
       "      <td>4</td>\n",
       "      <td>0</td>\n",
       "      <td>0</td>\n",
       "      <td>1</td>\n",
       "      <td>1.0</td>\n",
       "      <td>1</td>\n",
       "      <td>1</td>\n",
       "      <td>1</td>\n",
       "      <td>3</td>\n",
       "      <td>17.749338</td>\n",
       "      <td>86.02312</td>\n",
       "    </tr>\n",
       "    <tr>\n",
       "      <th>...</th>\n",
       "      <td>...</td>\n",
       "      <td>...</td>\n",
       "      <td>...</td>\n",
       "      <td>...</td>\n",
       "      <td>...</td>\n",
       "      <td>...</td>\n",
       "      <td>...</td>\n",
       "      <td>...</td>\n",
       "      <td>...</td>\n",
       "      <td>...</td>\n",
       "      <td>...</td>\n",
       "    </tr>\n",
       "    <tr>\n",
       "      <th>299857</th>\n",
       "      <td>299995</td>\n",
       "      <td>0</td>\n",
       "      <td>1</td>\n",
       "      <td>2</td>\n",
       "      <td>9.0</td>\n",
       "      <td>0</td>\n",
       "      <td>0</td>\n",
       "      <td>2</td>\n",
       "      <td>1</td>\n",
       "      <td>12.730812</td>\n",
       "      <td>129.99749</td>\n",
       "    </tr>\n",
       "    <tr>\n",
       "      <th>299858</th>\n",
       "      <td>299996</td>\n",
       "      <td>1</td>\n",
       "      <td>1</td>\n",
       "      <td>0</td>\n",
       "      <td>6.0</td>\n",
       "      <td>0</td>\n",
       "      <td>1</td>\n",
       "      <td>2</td>\n",
       "      <td>1</td>\n",
       "      <td>26.633182</td>\n",
       "      <td>19.85819</td>\n",
       "    </tr>\n",
       "    <tr>\n",
       "      <th>299859</th>\n",
       "      <td>299997</td>\n",
       "      <td>3</td>\n",
       "      <td>0</td>\n",
       "      <td>0</td>\n",
       "      <td>9.0</td>\n",
       "      <td>1</td>\n",
       "      <td>1</td>\n",
       "      <td>0</td>\n",
       "      <td>4</td>\n",
       "      <td>11.898250</td>\n",
       "      <td>111.41364</td>\n",
       "    </tr>\n",
       "    <tr>\n",
       "      <th>299860</th>\n",
       "      <td>299998</td>\n",
       "      <td>0</td>\n",
       "      <td>2</td>\n",
       "      <td>2</td>\n",
       "      <td>1.0</td>\n",
       "      <td>0</td>\n",
       "      <td>1</td>\n",
       "      <td>2</td>\n",
       "      <td>4</td>\n",
       "      <td>6.175738</td>\n",
       "      <td>115.89080</td>\n",
       "    </tr>\n",
       "    <tr>\n",
       "      <th>299861</th>\n",
       "      <td>299999</td>\n",
       "      <td>4</td>\n",
       "      <td>0</td>\n",
       "      <td>2</td>\n",
       "      <td>2.0</td>\n",
       "      <td>0</td>\n",
       "      <td>1</td>\n",
       "      <td>0</td>\n",
       "      <td>0</td>\n",
       "      <td>18.568865</td>\n",
       "      <td>26.72762</td>\n",
       "    </tr>\n",
       "  </tbody>\n",
       "</table>\n",
       "<p>299862 rows × 11 columns</p>\n",
       "</div>"
      ]
     },
     "execution_count": 2,
     "metadata": {},
     "output_type": "execute_result"
    }
   ],
   "execution_count": 2
  },
  {
   "metadata": {
    "ExecuteTime": {
     "end_time": "2025-02-25T15:17:07.230102Z",
     "start_time": "2025-02-25T15:17:06.745947Z"
    }
   },
   "cell_type": "code",
   "source": [
    "# Encoding the data\n",
    "no_missing[\"Brand\"] = LabelEncoder().fit_transform(no_missing[\"Brand\"])\n",
    "no_missing[\"Material\"] = LabelEncoder().fit_transform(no_missing[\"Material\"])\n",
    "no_missing[\"Size\"] = LabelEncoder().fit_transform(no_missing[\"Size\"])\n",
    "no_missing[\"Laptop Compartment\"] = LabelEncoder().fit_transform(no_missing[\"Laptop Compartment\"])\n",
    "no_missing[\"Waterproof\"] = LabelEncoder().fit_transform(no_missing[\"Waterproof\"])\n",
    "no_missing[\"Style\"] = LabelEncoder().fit_transform(no_missing[\"Style\"])\n",
    "no_missing[\"Color\"] = LabelEncoder().fit_transform(no_missing[\"Color\"])\n",
    "no_missing"
   ],
   "id": "2e48d62efbc24613",
   "outputs": [
    {
     "data": {
      "text/plain": [
       "            id  Brand  Material  Size  Compartments  Laptop Compartment  \\\n",
       "0            0      1         1     1           7.0                   1   \n",
       "1            1      1         0     2          10.0                   1   \n",
       "2            2      4         1     2           2.0                   1   \n",
       "3            3      2         2     2           8.0                   1   \n",
       "4            4      0         0     1           1.0                   1   \n",
       "...        ...    ...       ...   ...           ...                 ...   \n",
       "299857  299995      0         1     2           9.0                   0   \n",
       "299858  299996      1         1     0           6.0                   0   \n",
       "299859  299997      3         0     0           9.0                   1   \n",
       "299860  299998      0         2     2           1.0                   0   \n",
       "299861  299999      4         0     2           2.0                   0   \n",
       "\n",
       "        Waterproof  Style  Color  Weight Capacity (kg)      Price  \n",
       "0                0      2      0             11.611723  112.15875  \n",
       "1                1      1      3             27.078537   68.88056  \n",
       "2                0      1      5             16.643760   39.17320  \n",
       "3                0      1      3             12.937220   80.60793  \n",
       "4                1      1      3             17.749338   86.02312  \n",
       "...            ...    ...    ...                   ...        ...  \n",
       "299857           0      2      1             12.730812  129.99749  \n",
       "299858           1      2      1             26.633182   19.85819  \n",
       "299859           1      0      4             11.898250  111.41364  \n",
       "299860           1      2      4              6.175738  115.89080  \n",
       "299861           1      0      0             18.568865   26.72762  \n",
       "\n",
       "[299862 rows x 11 columns]"
      ],
      "text/html": [
       "<div>\n",
       "<style scoped>\n",
       "    .dataframe tbody tr th:only-of-type {\n",
       "        vertical-align: middle;\n",
       "    }\n",
       "\n",
       "    .dataframe tbody tr th {\n",
       "        vertical-align: top;\n",
       "    }\n",
       "\n",
       "    .dataframe thead th {\n",
       "        text-align: right;\n",
       "    }\n",
       "</style>\n",
       "<table border=\"1\" class=\"dataframe\">\n",
       "  <thead>\n",
       "    <tr style=\"text-align: right;\">\n",
       "      <th></th>\n",
       "      <th>id</th>\n",
       "      <th>Brand</th>\n",
       "      <th>Material</th>\n",
       "      <th>Size</th>\n",
       "      <th>Compartments</th>\n",
       "      <th>Laptop Compartment</th>\n",
       "      <th>Waterproof</th>\n",
       "      <th>Style</th>\n",
       "      <th>Color</th>\n",
       "      <th>Weight Capacity (kg)</th>\n",
       "      <th>Price</th>\n",
       "    </tr>\n",
       "  </thead>\n",
       "  <tbody>\n",
       "    <tr>\n",
       "      <th>0</th>\n",
       "      <td>0</td>\n",
       "      <td>1</td>\n",
       "      <td>1</td>\n",
       "      <td>1</td>\n",
       "      <td>7.0</td>\n",
       "      <td>1</td>\n",
       "      <td>0</td>\n",
       "      <td>2</td>\n",
       "      <td>0</td>\n",
       "      <td>11.611723</td>\n",
       "      <td>112.15875</td>\n",
       "    </tr>\n",
       "    <tr>\n",
       "      <th>1</th>\n",
       "      <td>1</td>\n",
       "      <td>1</td>\n",
       "      <td>0</td>\n",
       "      <td>2</td>\n",
       "      <td>10.0</td>\n",
       "      <td>1</td>\n",
       "      <td>1</td>\n",
       "      <td>1</td>\n",
       "      <td>3</td>\n",
       "      <td>27.078537</td>\n",
       "      <td>68.88056</td>\n",
       "    </tr>\n",
       "    <tr>\n",
       "      <th>2</th>\n",
       "      <td>2</td>\n",
       "      <td>4</td>\n",
       "      <td>1</td>\n",
       "      <td>2</td>\n",
       "      <td>2.0</td>\n",
       "      <td>1</td>\n",
       "      <td>0</td>\n",
       "      <td>1</td>\n",
       "      <td>5</td>\n",
       "      <td>16.643760</td>\n",
       "      <td>39.17320</td>\n",
       "    </tr>\n",
       "    <tr>\n",
       "      <th>3</th>\n",
       "      <td>3</td>\n",
       "      <td>2</td>\n",
       "      <td>2</td>\n",
       "      <td>2</td>\n",
       "      <td>8.0</td>\n",
       "      <td>1</td>\n",
       "      <td>0</td>\n",
       "      <td>1</td>\n",
       "      <td>3</td>\n",
       "      <td>12.937220</td>\n",
       "      <td>80.60793</td>\n",
       "    </tr>\n",
       "    <tr>\n",
       "      <th>4</th>\n",
       "      <td>4</td>\n",
       "      <td>0</td>\n",
       "      <td>0</td>\n",
       "      <td>1</td>\n",
       "      <td>1.0</td>\n",
       "      <td>1</td>\n",
       "      <td>1</td>\n",
       "      <td>1</td>\n",
       "      <td>3</td>\n",
       "      <td>17.749338</td>\n",
       "      <td>86.02312</td>\n",
       "    </tr>\n",
       "    <tr>\n",
       "      <th>...</th>\n",
       "      <td>...</td>\n",
       "      <td>...</td>\n",
       "      <td>...</td>\n",
       "      <td>...</td>\n",
       "      <td>...</td>\n",
       "      <td>...</td>\n",
       "      <td>...</td>\n",
       "      <td>...</td>\n",
       "      <td>...</td>\n",
       "      <td>...</td>\n",
       "      <td>...</td>\n",
       "    </tr>\n",
       "    <tr>\n",
       "      <th>299857</th>\n",
       "      <td>299995</td>\n",
       "      <td>0</td>\n",
       "      <td>1</td>\n",
       "      <td>2</td>\n",
       "      <td>9.0</td>\n",
       "      <td>0</td>\n",
       "      <td>0</td>\n",
       "      <td>2</td>\n",
       "      <td>1</td>\n",
       "      <td>12.730812</td>\n",
       "      <td>129.99749</td>\n",
       "    </tr>\n",
       "    <tr>\n",
       "      <th>299858</th>\n",
       "      <td>299996</td>\n",
       "      <td>1</td>\n",
       "      <td>1</td>\n",
       "      <td>0</td>\n",
       "      <td>6.0</td>\n",
       "      <td>0</td>\n",
       "      <td>1</td>\n",
       "      <td>2</td>\n",
       "      <td>1</td>\n",
       "      <td>26.633182</td>\n",
       "      <td>19.85819</td>\n",
       "    </tr>\n",
       "    <tr>\n",
       "      <th>299859</th>\n",
       "      <td>299997</td>\n",
       "      <td>3</td>\n",
       "      <td>0</td>\n",
       "      <td>0</td>\n",
       "      <td>9.0</td>\n",
       "      <td>1</td>\n",
       "      <td>1</td>\n",
       "      <td>0</td>\n",
       "      <td>4</td>\n",
       "      <td>11.898250</td>\n",
       "      <td>111.41364</td>\n",
       "    </tr>\n",
       "    <tr>\n",
       "      <th>299860</th>\n",
       "      <td>299998</td>\n",
       "      <td>0</td>\n",
       "      <td>2</td>\n",
       "      <td>2</td>\n",
       "      <td>1.0</td>\n",
       "      <td>0</td>\n",
       "      <td>1</td>\n",
       "      <td>2</td>\n",
       "      <td>4</td>\n",
       "      <td>6.175738</td>\n",
       "      <td>115.89080</td>\n",
       "    </tr>\n",
       "    <tr>\n",
       "      <th>299861</th>\n",
       "      <td>299999</td>\n",
       "      <td>4</td>\n",
       "      <td>0</td>\n",
       "      <td>2</td>\n",
       "      <td>2.0</td>\n",
       "      <td>0</td>\n",
       "      <td>1</td>\n",
       "      <td>0</td>\n",
       "      <td>0</td>\n",
       "      <td>18.568865</td>\n",
       "      <td>26.72762</td>\n",
       "    </tr>\n",
       "  </tbody>\n",
       "</table>\n",
       "<p>299862 rows × 11 columns</p>\n",
       "</div>"
      ]
     },
     "execution_count": 3,
     "metadata": {},
     "output_type": "execute_result"
    }
   ],
   "execution_count": 3
  },
  {
   "metadata": {
    "ExecuteTime": {
     "end_time": "2025-02-25T15:17:07.742059Z",
     "start_time": "2025-02-25T15:17:07.360603Z"
    }
   },
   "cell_type": "code",
   "source": [
    "# Specify the target before dropping the target column from the dataframe\n",
    "target = no_missing[\"Price\"]\n",
    "no_missing.drop(\"id\", axis=1, inplace=True)\n",
    "no_missing.drop(\"Price\", axis=1, inplace=True)\n",
    "\n",
    "# Scale the data\n",
    "scaler = StandardScaler()\n",
    "scaler.fit(no_missing)\n",
    "scaled_data = scaler.transform(no_missing)\n",
    "scaled_data"
   ],
   "id": "3024f33e558d5442",
   "outputs": [
    {
     "data": {
      "text/plain": [
       "array([[-0.7310317 , -0.52894872, -0.02877963, ...,  1.08827632,\n",
       "        -1.48039675, -0.92125175],\n",
       "       [-0.7310317 , -1.37852488,  1.1453587 , ..., -0.07256259,\n",
       "         0.20546636,  1.2987899 ],\n",
       "       [ 1.26545238, -0.52894872,  1.1453587 , ..., -0.07256259,\n",
       "         1.3293751 , -0.19897422],\n",
       "       ...,\n",
       "       [ 0.59995768, -1.37852488, -1.20291795, ..., -1.23340151,\n",
       "         0.76742073, -0.88012488],\n",
       "       [-1.39652639,  0.32062744,  1.1453587 , ...,  1.08827632,\n",
       "         0.76742073, -1.70151025],\n",
       "       [ 1.26545238, -1.37852488,  1.1453587 , ..., -1.23340151,\n",
       "        -1.48039675,  0.07734728]])"
      ]
     },
     "execution_count": 4,
     "metadata": {},
     "output_type": "execute_result"
    }
   ],
   "execution_count": 4
  },
  {
   "metadata": {
    "ExecuteTime": {
     "end_time": "2025-02-25T15:17:08.508762Z",
     "start_time": "2025-02-25T15:17:08.347987Z"
    }
   },
   "cell_type": "code",
   "source": [
    "# Split the data\n",
    "X_train, X_test, y_train, y_test = train_test_split(scaled_data, target, test_size=0.2, random_state=42)"
   ],
   "id": "24326101bed8b12f",
   "outputs": [],
   "execution_count": 5
  },
  {
   "metadata": {
    "ExecuteTime": {
     "end_time": "2025-02-25T15:34:34.970605Z",
     "start_time": "2025-02-25T15:17:09.918615Z"
    }
   },
   "cell_type": "code",
   "source": [
    "# Create a XGBoost Classifier\n",
    "clf = xgb.XGBRegressor(n_estimators=100000, learning_rate=0.001, max_depth=3, random_state=42)\n",
    "clf.fit(X_train, y_train)\n",
    "predictions = clf.predict(X_test)\n",
    "r2 = r2_score(y_test, predictions)\n",
    "squared_error = root_mean_squared_error(y_test, predictions)\n",
    "print(squared_error)\n",
    "predictions"
   ],
   "id": "e9e7fe529100c518",
   "outputs": [
    {
     "name": "stdout",
     "output_type": "stream",
     "text": [
      "38.95355780939536\n"
     ]
    },
    {
     "data": {
      "text/plain": [
       "array([80.23175 , 82.140724, 84.190956, ..., 82.27172 , 79.851524,\n",
       "       81.1387  ], dtype=float32)"
      ]
     },
     "execution_count": 6,
     "metadata": {},
     "output_type": "execute_result"
    }
   ],
   "execution_count": 6
  },
  {
   "metadata": {
    "ExecuteTime": {
     "end_time": "2025-02-25T15:34:35.680847Z",
     "start_time": "2025-02-25T15:34:35.441242Z"
    }
   },
   "cell_type": "code",
   "source": [
    "# Introducing PCA\n",
    "pca = PCA()\n",
    "pca.fit(scaled_data)\n",
    "\n",
    "# Explained variance\n",
    "explained_variance = pca.explained_variance_ratio_\n",
    "cumulative_variance = np.cumsum(explained_variance)\n",
    "\n",
    "# Plot explained variance\n",
    "plt.figure(figsize=(8, 5))\n",
    "plt.plot(range(1, len(explained_variance) + 1), cumulative_variance, marker='o', linestyle='--')\n",
    "plt.xlabel(\"Number of Principal Components\")\n",
    "plt.ylabel(\"Cumulative Explained Variance\")\n",
    "plt.title(\"Explained Variance vs. Number of Principal Components\")\n",
    "plt.grid()\n",
    "plt.show()\n",
    "\n",
    "# Print explained variance ratios\n",
    "print(\"Explained Variance Ratios:\", explained_variance)\n",
    "print(\"Cumulative Variance:\", cumulative_variance)"
   ],
   "id": "c75a6c823174a09b",
   "outputs": [
    {
     "data": {
      "text/plain": [
       "<Figure size 800x500 with 1 Axes>"
      ],
      "image/png": "[encoded data removed]"
     },
     "metadata": {},
     "output_type": "display_data"
    },
    {
     "name": "stdout",
     "output_type": "stream",
     "text": [
      "Explained Variance Ratios: [0.11393657 0.11258302 0.11215161 0.11143965 0.11118578 0.11049127\n",
      " 0.1102515  0.11002907 0.10793152]\n",
      "Cumulative Variance: [0.11393657 0.22651959 0.3386712  0.45011086 0.56129664 0.67178791\n",
      " 0.78203941 0.89206848 1.        ]\n"
     ]
    }
   ],
   "execution_count": 7
  },
  {
   "metadata": {
    "ExecuteTime": {
     "end_time": "2025-02-25T15:34:35.730437Z",
     "start_time": "2025-02-25T15:34:35.696663Z"
    }
   },
   "cell_type": "code",
   "source": "pca.transform(scaled_data)",
   "id": "b1aaeba80998a8c4",
   "outputs": [
    {
     "data": {
      "text/plain": [
       "array([[ 1.10498042,  1.27491742, -1.05071151, ..., -0.5439637 ,\n",
       "         1.05754549,  0.32443122],\n",
       "       [-0.39105576,  0.12093221,  0.22636844, ...,  0.04685441,\n",
       "        -1.57547589,  1.36572706],\n",
       "       [ 1.25659011, -1.31219143, -0.71764672, ..., -0.23291707,\n",
       "        -1.09889251, -0.19425933],\n",
       "       ...,\n",
       "       [-0.10985698,  0.96554618, -0.9974211 , ...,  0.9331567 ,\n",
       "        -1.50284423,  1.5417469 ],\n",
       "       [-1.45778543, -0.94514541, -0.94170277, ..., -1.3322161 ,\n",
       "         1.8430453 ,  0.17952654],\n",
       "       [-1.58506666, -0.87853718, -1.01484901, ...,  0.12421455,\n",
       "        -1.02695022, -0.31620593]])"
      ]
     },
     "execution_count": 8,
     "metadata": {},
     "output_type": "execute_result"
    }
   ],
   "execution_count": 8
  },
  {
   "metadata": {
    "ExecuteTime": {
     "end_time": "2025-02-25T15:34:35.911476Z",
     "start_time": "2025-02-25T15:34:35.818584Z"
    }
   },
   "cell_type": "code",
   "source": [
    "X_pca = pca.transform(scaled_data)\n",
    "X_train, X_test, y_train, y_test = train_test_split(X_pca, target, test_size=0.2, random_state=42)"
   ],
   "id": "270e9fcaa5e2f654",
   "outputs": [],
   "execution_count": 9
  },
  {
   "metadata": {
    "ExecuteTime": {
     "end_time": "2025-02-25T15:55:55.637115Z",
     "start_time": "2025-02-25T15:55:48.638723Z"
    }
   },
   "cell_type": "code",
   "source": [
    "# Create a XGBoost Classifier\n",
    "clf = XGBRegressor(n_estimators=1000, learning_rate=0.01, max_depth=6, random_state=21)\n",
    "clf.fit(X_train, y_train)\n",
    "predictions = clf.predict(X_test)\n",
    "squared_error = root_mean_squared_error(y_test, predictions)\n",
    "print(squared_error)\n",
    "predictions"
   ],
   "id": "2b23dc4e50c711d4",
   "outputs": [
    {
     "name": "stdout",
     "output_type": "stream",
     "text": [
      "38.97787581267344\n"
     ]
    },
    {
     "data": {
      "text/plain": [
       "array([82.34362 , 80.76777 , 80.825966, ..., 81.59578 , 79.77296 ,\n",
       "       81.42273 ], dtype=float32)"
      ]
     },
     "execution_count": 24,
     "metadata": {},
     "output_type": "execute_result"
    }
   ],
   "execution_count": 24
  },
  {
   "metadata": {
    "ExecuteTime": {
     "end_time": "2025-02-24T08:56:05.984206Z",
     "start_time": "2025-02-24T08:56:04.109529Z"
    }
   },
   "cell_type": "code",
   "source": [
    "from catboost import CatBoostRegressor\n",
    "\n",
    "model = CatBoostRegressor(n_estimators=100, learning_rate=0.1, max_depth=3, random_state=42)\n",
    "model.fit(X_train, y_train)\n",
    "y_pred = model.predict(X_test)\n",
    "mean = root_mean_squared_error(y_test, y_pred)\n",
    "print(mean)"
   ],
   "id": "4afed0d19393d5b5",
   "outputs": [
    {
     "name": "stdout",
     "output_type": "stream",
     "text": [
      "0:\tlearn: 39.0510325\ttotal: 10.7ms\tremaining: 1.06s\n",
      "1:\tlearn: 39.0492936\ttotal: 21.2ms\tremaining: 1.04s\n",
      "2:\tlearn: 39.0480254\ttotal: 30.1ms\tremaining: 974ms\n",
      "3:\tlearn: 39.0463251\ttotal: 39.8ms\tremaining: 955ms\n",
      "4:\tlearn: 39.0454932\ttotal: 48.6ms\tremaining: 923ms\n",
      "5:\tlearn: 39.0448379\ttotal: 58.3ms\tremaining: 914ms\n",
      "6:\tlearn: 39.0438148\ttotal: 68.1ms\tremaining: 905ms\n",
      "7:\tlearn: 39.0430304\ttotal: 76.6ms\tremaining: 881ms\n",
      "8:\tlearn: 39.0422706\ttotal: 86.5ms\tremaining: 875ms\n",
      "9:\tlearn: 39.0416490\ttotal: 96.8ms\tremaining: 871ms\n",
      "10:\tlearn: 39.0410716\ttotal: 109ms\tremaining: 884ms\n",
      "11:\tlearn: 39.0402686\ttotal: 118ms\tremaining: 867ms\n",
      "12:\tlearn: 39.0398957\ttotal: 127ms\tremaining: 849ms\n",
      "13:\tlearn: 39.0392483\ttotal: 135ms\tremaining: 832ms\n",
      "14:\tlearn: 39.0388863\ttotal: 144ms\tremaining: 816ms\n",
      "15:\tlearn: 39.0384772\ttotal: 153ms\tremaining: 802ms\n",
      "16:\tlearn: 39.0376535\ttotal: 162ms\tremaining: 791ms\n",
      "17:\tlearn: 39.0371135\ttotal: 171ms\tremaining: 779ms\n",
      "18:\tlearn: 39.0366817\ttotal: 180ms\tremaining: 767ms\n",
      "19:\tlearn: 39.0363150\ttotal: 189ms\tremaining: 757ms\n",
      "20:\tlearn: 39.0358638\ttotal: 198ms\tremaining: 744ms\n",
      "21:\tlearn: 39.0352052\ttotal: 207ms\tremaining: 734ms\n",
      "22:\tlearn: 39.0348431\ttotal: 218ms\tremaining: 730ms\n",
      "23:\tlearn: 39.0343585\ttotal: 232ms\tremaining: 734ms\n",
      "24:\tlearn: 39.0339552\ttotal: 242ms\tremaining: 727ms\n",
      "25:\tlearn: 39.0335000\ttotal: 256ms\tremaining: 727ms\n",
      "26:\tlearn: 39.0331807\ttotal: 268ms\tremaining: 725ms\n",
      "27:\tlearn: 39.0325659\ttotal: 282ms\tremaining: 724ms\n",
      "28:\tlearn: 39.0321355\ttotal: 293ms\tremaining: 718ms\n",
      "29:\tlearn: 39.0319412\ttotal: 308ms\tremaining: 719ms\n",
      "30:\tlearn: 39.0317461\ttotal: 318ms\tremaining: 708ms\n",
      "31:\tlearn: 39.0314898\ttotal: 328ms\tremaining: 696ms\n",
      "32:\tlearn: 39.0311255\ttotal: 337ms\tremaining: 685ms\n",
      "33:\tlearn: 39.0307675\ttotal: 347ms\tremaining: 673ms\n",
      "34:\tlearn: 39.0305073\ttotal: 357ms\tremaining: 663ms\n",
      "35:\tlearn: 39.0299684\ttotal: 368ms\tremaining: 653ms\n",
      "36:\tlearn: 39.0296666\ttotal: 377ms\tremaining: 641ms\n",
      "37:\tlearn: 39.0294159\ttotal: 386ms\tremaining: 629ms\n",
      "38:\tlearn: 39.0290216\ttotal: 395ms\tremaining: 618ms\n",
      "39:\tlearn: 39.0287390\ttotal: 404ms\tremaining: 605ms\n",
      "40:\tlearn: 39.0285298\ttotal: 412ms\tremaining: 593ms\n",
      "41:\tlearn: 39.0282860\ttotal: 422ms\tremaining: 583ms\n",
      "42:\tlearn: 39.0280213\ttotal: 434ms\tremaining: 575ms\n",
      "43:\tlearn: 39.0276455\ttotal: 444ms\tremaining: 565ms\n",
      "44:\tlearn: 39.0273628\ttotal: 455ms\tremaining: 556ms\n",
      "45:\tlearn: 39.0271566\ttotal: 464ms\tremaining: 545ms\n",
      "46:\tlearn: 39.0268535\ttotal: 474ms\tremaining: 535ms\n",
      "47:\tlearn: 39.0265578\ttotal: 484ms\tremaining: 525ms\n",
      "48:\tlearn: 39.0262338\ttotal: 494ms\tremaining: 514ms\n",
      "49:\tlearn: 39.0259274\ttotal: 504ms\tremaining: 504ms\n",
      "50:\tlearn: 39.0255867\ttotal: 514ms\tremaining: 494ms\n",
      "51:\tlearn: 39.0253289\ttotal: 523ms\tremaining: 483ms\n",
      "52:\tlearn: 39.0250950\ttotal: 533ms\tremaining: 473ms\n",
      "53:\tlearn: 39.0248280\ttotal: 543ms\tremaining: 462ms\n",
      "54:\tlearn: 39.0245470\ttotal: 552ms\tremaining: 452ms\n",
      "55:\tlearn: 39.0243318\ttotal: 562ms\tremaining: 442ms\n",
      "56:\tlearn: 39.0240341\ttotal: 571ms\tremaining: 431ms\n",
      "57:\tlearn: 39.0238345\ttotal: 580ms\tremaining: 420ms\n",
      "58:\tlearn: 39.0234373\ttotal: 589ms\tremaining: 409ms\n",
      "59:\tlearn: 39.0232143\ttotal: 603ms\tremaining: 402ms\n",
      "60:\tlearn: 39.0228968\ttotal: 614ms\tremaining: 392ms\n",
      "61:\tlearn: 39.0227137\ttotal: 622ms\tremaining: 382ms\n",
      "62:\tlearn: 39.0223372\ttotal: 631ms\tremaining: 371ms\n",
      "63:\tlearn: 39.0220807\ttotal: 642ms\tremaining: 361ms\n",
      "64:\tlearn: 39.0218489\ttotal: 652ms\tremaining: 351ms\n",
      "65:\tlearn: 39.0217899\ttotal: 662ms\tremaining: 341ms\n",
      "66:\tlearn: 39.0216357\ttotal: 672ms\tremaining: 331ms\n",
      "67:\tlearn: 39.0214467\ttotal: 682ms\tremaining: 321ms\n",
      "68:\tlearn: 39.0210358\ttotal: 691ms\tremaining: 311ms\n",
      "69:\tlearn: 39.0208175\ttotal: 701ms\tremaining: 300ms\n",
      "70:\tlearn: 39.0206189\ttotal: 712ms\tremaining: 291ms\n",
      "71:\tlearn: 39.0204641\ttotal: 725ms\tremaining: 282ms\n",
      "72:\tlearn: 39.0201863\ttotal: 736ms\tremaining: 272ms\n",
      "73:\tlearn: 39.0200047\ttotal: 748ms\tremaining: 263ms\n",
      "74:\tlearn: 39.0197903\ttotal: 760ms\tremaining: 253ms\n",
      "75:\tlearn: 39.0195501\ttotal: 771ms\tremaining: 243ms\n",
      "76:\tlearn: 39.0192878\ttotal: 783ms\tremaining: 234ms\n",
      "77:\tlearn: 39.0190534\ttotal: 793ms\tremaining: 224ms\n",
      "78:\tlearn: 39.0187718\ttotal: 803ms\tremaining: 213ms\n",
      "79:\tlearn: 39.0186183\ttotal: 812ms\tremaining: 203ms\n",
      "80:\tlearn: 39.0184419\ttotal: 821ms\tremaining: 193ms\n",
      "81:\tlearn: 39.0181973\ttotal: 829ms\tremaining: 182ms\n",
      "82:\tlearn: 39.0179867\ttotal: 839ms\tremaining: 172ms\n",
      "83:\tlearn: 39.0176249\ttotal: 848ms\tremaining: 162ms\n",
      "84:\tlearn: 39.0174789\ttotal: 859ms\tremaining: 152ms\n",
      "85:\tlearn: 39.0172626\ttotal: 868ms\tremaining: 141ms\n",
      "86:\tlearn: 39.0170480\ttotal: 878ms\tremaining: 131ms\n",
      "87:\tlearn: 39.0168093\ttotal: 888ms\tremaining: 121ms\n",
      "88:\tlearn: 39.0165945\ttotal: 897ms\tremaining: 111ms\n",
      "89:\tlearn: 39.0162926\ttotal: 908ms\tremaining: 101ms\n",
      "90:\tlearn: 39.0159273\ttotal: 919ms\tremaining: 90.8ms\n",
      "91:\tlearn: 39.0158012\ttotal: 930ms\tremaining: 80.8ms\n",
      "92:\tlearn: 39.0156626\ttotal: 941ms\tremaining: 70.8ms\n",
      "93:\tlearn: 39.0155184\ttotal: 953ms\tremaining: 60.8ms\n",
      "94:\tlearn: 39.0151497\ttotal: 962ms\tremaining: 50.6ms\n",
      "95:\tlearn: 39.0149313\ttotal: 973ms\tremaining: 40.5ms\n",
      "96:\tlearn: 39.0147916\ttotal: 984ms\tremaining: 30.4ms\n",
      "97:\tlearn: 39.0144938\ttotal: 995ms\tremaining: 20.3ms\n",
      "98:\tlearn: 39.0142259\ttotal: 1s\tremaining: 10.2ms\n",
      "99:\tlearn: 39.0140445\ttotal: 1.01s\tremaining: 0us\n",
      "38.952717913288225\n"
     ]
    }
   ],
   "execution_count": 65
  },
  {
   "metadata": {
    "ExecuteTime": {
     "end_time": "2025-02-24T08:50:23.832630Z",
     "start_time": "2025-02-24T08:48:35.749217Z"
    }
   },
   "cell_type": "code",
   "source": [
    "from sklearn.ensemble import RandomForestRegressor\n",
    "\n",
    "model = RandomForestRegressor(n_estimators=100, max_depth=5, random_state=42)\n",
    "model.fit(X_train, y_train)\n",
    "y_pred = model.predict(X_test)\n",
    "mean = root_mean_squared_error(y_test, y_pred)\n",
    "print(mean)"
   ],
   "id": "7032cc6355df26b7",
   "outputs": [
    {
     "name": "stdout",
     "output_type": "stream",
     "text": [
      "38.95356389366775\n"
     ]
    }
   ],
   "execution_count": 51
  }
 ],
 "metadata": {
  "kernelspec": {
   "display_name": "Python 3",
   "language": "python",
   "name": "python3"
  },
  "language_info": {
   "codemirror_mode": {
    "name": "ipython",
    "version": 2
   },
   "file_extension": ".py",
   "mimetype": "text/x-python",
   "name": "python",
   "nbconvert_exporter": "python",
   "pygments_lexer": "ipython2",
   "version": "2.7.6"
  }
 },
 "nbformat": 4,
 "nbformat_minor": 5
}
